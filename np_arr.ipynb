{
 "cells": [
  {
   "cell_type": "markdown",
   "metadata": {},
   "source": [
    "# creating np arrays"
   ]
  },
  {
   "cell_type": "code",
   "execution_count": 2,
   "metadata": {},
   "outputs": [],
   "source": [
    "import numpy as np"
   ]
  },
  {
   "cell_type": "code",
   "execution_count": 4,
   "metadata": {},
   "outputs": [
    {
     "name": "stdout",
     "output_type": "stream",
     "text": [
      "[[1 2 3]\n",
      " [4 5 6]\n",
      " [7 8 9]]\n"
     ]
    }
   ],
   "source": [
    "a = np.array(\n",
    "    [\n",
    "        [1,2,3],\n",
    "        [4,5,6],\n",
    "        [7,8,9]\n",
    "    ]\n",
    ")\n",
    "print(a)\n"
   ]
  },
  {
   "cell_type": "code",
   "execution_count": 23,
   "metadata": {},
   "outputs": [
    {
     "name": "stdout",
     "output_type": "stream",
     "text": [
      "[0. 0. 0. 0. 0. 0. 0. 0.]\n"
     ]
    }
   ],
   "source": [
    "zeroarray = np.zeros(8)\n",
    "print(zeroarray)"
   ]
  },
  {
   "cell_type": "code",
   "execution_count": 25,
   "metadata": {},
   "outputs": [
    {
     "name": "stdout",
     "output_type": "stream",
     "text": [
      "[1. 1. 1. 1.]\n"
     ]
    }
   ],
   "source": [
    "ones = np.ones(4)\n",
    "print(ones)"
   ]
  },
  {
   "cell_type": "code",
   "execution_count": 42,
   "metadata": {},
   "outputs": [
    {
     "name": "stdout",
     "output_type": "stream",
     "text": [
      "[0.]\n"
     ]
    }
   ],
   "source": [
    "empty = np.empty(1)\n",
    "print(empty)"
   ]
  },
  {
   "cell_type": "code",
   "execution_count": 3,
   "metadata": {},
   "outputs": [
    {
     "name": "stdout",
     "output_type": "stream",
     "text": [
      "[ 2  4  6  8 10 12 14 16 18 20]\n",
      "[ 3  6  9 12 15 18 21 24 27 30]\n",
      "[ 25  50  75 100 125 150 175 200 225 250]\n",
      "[   0    1    2 ... 9997 9998 9999]\n"
     ]
    }
   ],
   "source": [
    "# arange\n",
    "\n",
    "table2 = np.arange(2, 21, 2)\n",
    "table3 = np.arange(3, 31, 3)\n",
    "table25 = np.arange(25, 251, 25)\n",
    "range  = np.arange(10000)\n",
    "\n",
    "print(table2)\n",
    "print(table3)\n",
    "print(table25)\n",
    "print(range)"
   ]
  },
  {
   "cell_type": "code",
   "execution_count": 5,
   "metadata": {},
   "outputs": [
    {
     "name": "stdout",
     "output_type": "stream",
     "text": [
      "[1.     1.0205 1.041  1.062  1.082  1.102  1.122  1.143  1.163  1.184\n",
      " 1.204  1.225  1.245  1.266  1.286  1.306  1.326  1.347  1.367  1.388\n",
      " 1.408  1.429  1.449  1.47   1.49   1.51   1.53   1.551  1.571  1.592\n",
      " 1.612  1.633  1.653  1.674  1.694  1.714  1.734  1.755  1.775  1.796\n",
      " 1.816  1.837  1.857  1.878  1.898  1.918  1.938  1.959  1.9795 2.    ]\n"
     ]
    }
   ],
   "source": [
    "# linespace\n",
    "ls = np.linspace(1,2, dtype=np.float16)\n",
    "print(ls)"
   ]
  }
 ],
 "metadata": {
  "kernelspec": {
   "display_name": "quotes-9Ph_9ekj-py3.10",
   "language": "python",
   "name": "python3"
  },
  "language_info": {
   "codemirror_mode": {
    "name": "ipython",
    "version": 3
   },
   "file_extension": ".py",
   "mimetype": "text/x-python",
   "name": "python",
   "nbconvert_exporter": "python",
   "pygments_lexer": "ipython3",
   "version": "3.11.0"
  }
 },
 "nbformat": 4,
 "nbformat_minor": 2
}
