{
 "cells": [
  {
   "cell_type": "markdown",
   "metadata": {},
   "source": [
    "# sort & concatenation"
   ]
  },
  {
   "cell_type": "code",
   "execution_count": 3,
   "metadata": {},
   "outputs": [],
   "source": [
    "import numpy as np"
   ]
  },
  {
   "cell_type": "code",
   "execution_count": 25,
   "metadata": {},
   "outputs": [
    {
     "name": "stdout",
     "output_type": "stream",
     "text": [
      "[  2   3   5  15  32  63 121]\n",
      "[  1   2   2   3   4   5  15  32  63  66  73 121 345 532]\n"
     ]
    }
   ],
   "source": [
    "arr1 = np.array(\n",
    "    [2,121,3,15,63,32,5],\n",
    "    )\n",
    "arr2 = np.array([4,1,73,2,66,345,532])\n",
    "print(np.sort(arr1))\n",
    "print(np.sort(np.concatenate((arr1,arr2))))"
   ]
  }
 ],
 "metadata": {
  "kernelspec": {
   "display_name": "learning-ml-mXObaEem-py3.11",
   "language": "python",
   "name": "python3"
  },
  "language_info": {
   "codemirror_mode": {
    "name": "ipython",
    "version": 3
   },
   "file_extension": ".py",
   "mimetype": "text/x-python",
   "name": "python",
   "nbconvert_exporter": "python",
   "pygments_lexer": "ipython3",
   "version": "3.11.0"
  }
 },
 "nbformat": 4,
 "nbformat_minor": 2
}
